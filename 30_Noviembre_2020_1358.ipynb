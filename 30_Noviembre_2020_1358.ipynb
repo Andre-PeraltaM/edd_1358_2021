{
  "nbformat": 4,
  "nbformat_minor": 0,
  "metadata": {
    "colab": {
      "name": "30/Noviembre/2020_1358.ipynb",
      "provenance": [],
      "authorship_tag": "ABX9TyOvfKFcdqrf8yNig3w+WPRE",
      "include_colab_link": true
    },
    "kernelspec": {
      "name": "python3",
      "display_name": "Python 3"
    }
  },
  "cells": [
    {
      "cell_type": "markdown",
      "metadata": {
        "id": "view-in-github",
        "colab_type": "text"
      },
      "source": [
        "<a href=\"https://colab.research.google.com/github/Andre-PeraltaM/edd_1358_2021/blob/master/30_Noviembre_2020_1358.ipynb\" target=\"_parent\"><img src=\"https://colab.research.google.com/assets/colab-badge.svg\" alt=\"Open In Colab\"/></a>"
      ]
    },
    {
      "cell_type": "code",
      "metadata": {
        "colab": {
          "base_uri": "https://localhost:8080/"
        },
        "id": "FpL70g2I3sKO",
        "outputId": "331a0b44-a99d-4e5b-fb7f-3f6560b8c214"
      },
      "source": [
        "class Stack:\n",
        "\tdef __init__(self):\n",
        "\t\tself.__data = []\n",
        "\t\tself.__size = 0\n",
        "\n",
        "\tdef is_empty(self):\n",
        "\t\treturn self.__size == 0\n",
        "\tdef length(self):\n",
        "\t\treturn self.__size\n",
        "\tdef pop(self):\n",
        "\t\tself.__size -= 1\n",
        "\t\treturn self.__data.pop()\n",
        "\tdef peek(self):\n",
        "\t\treturn self.__data[-1]\n",
        "\tdef push( self , value ):\n",
        "\t\tself.__data.append(value)\n",
        "\t\tself.__size += 1\n",
        "\tdef is_full(self):\n",
        "\t\treturn 0\n",
        "\tdef to_string(self):\n",
        "\t\tcont = 1\n",
        "\t\tfor i in self.__data[::-1]:\n",
        "\t\t\tif cont == 1:\n",
        "\t\t\t\tprint('-----')\n",
        "\t\t\t\tprint(f'|{i}| <---- Tope')\n",
        "\t\t\t\tprint('-----')\n",
        "\t\t\telif cont == self.__size:\n",
        "\t\t\t\tprint('-----')\n",
        "\t\t\t\tprint(f'|{i}| <---- Base')\n",
        "\t\t\t\tprint('-----')\n",
        "\t\t\telse:\n",
        "\t\t\t\tprint('-----')\n",
        "\t\t\t\tprint(f'|{i}|')\n",
        "\t\t\t\tprint('-----')\n",
        "\n",
        "\n",
        "\t\t\tcont +=1\n",
        "\n",
        "\n",
        "x = Stack()\n",
        "\n",
        "x.push(34)\n",
        "x.push(10)\n",
        "x.push(45)\n",
        "x.push(4)\n",
        "x.push(23)\n",
        "x.push(33)\n",
        "\n",
        "valor=x.pop()\n",
        "print(valor*2)\n",
        "\n",
        "x.to_string()\n",
        "\n",
        "#Aplicación de la estructura Stack\n",
        "\n",
        "b = '(())'\n",
        "pila = Stack()\n",
        "lista ={')':'('}\n",
        "for letra in b:\n",
        "  if letra is '(':\n",
        "    pila.push(letra)\n",
        "  elif letra is ')':\n",
        "\n",
        "    if pila.peek() == lista[letra]:\n",
        "      pila.pop()\n",
        "    else:\n",
        "        print( 'No está balanceado')  \n",
        "if pila.length() == 0:\n",
        "  print('Está balanceado')\n",
        "else:\n",
        "  print('No está balanceado')\n"
      ],
      "execution_count": 8,
      "outputs": [
        {
          "output_type": "stream",
          "text": [
            "66\n",
            "-----\n",
            "|23| <---- Tope\n",
            "-----\n",
            "-----\n",
            "|4|\n",
            "-----\n",
            "-----\n",
            "|45|\n",
            "-----\n",
            "-----\n",
            "|10|\n",
            "-----\n",
            "-----\n",
            "|34| <---- Base\n",
            "-----\n",
            "Está balanceado\n"
          ],
          "name": "stdout"
        }
      ]
    }
  ]
}