{
  "nbformat": 4,
  "nbformat_minor": 0,
  "metadata": {
    "colab": {
      "name": "7Octubre2020_1358.ipynb",
      "provenance": [],
      "authorship_tag": "ABX9TyNAMbSo31EJJG7NtktP+4lL",
      "include_colab_link": true
    },
    "kernelspec": {
      "name": "python3",
      "display_name": "Python 3"
    }
  },
  "cells": [
    {
      "cell_type": "markdown",
      "metadata": {
        "id": "view-in-github",
        "colab_type": "text"
      },
      "source": [
        "<a href=\"https://colab.research.google.com/github/Andre-PeraltaM/edd_1358_2021/blob/master/7Octubre2020_1358.ipynb\" target=\"_parent\"><img src=\"https://colab.research.google.com/assets/colab-badge.svg\" alt=\"Open In Colab\"/></a>"
      ]
    },
    {
      "cell_type": "code",
      "metadata": {
        "id": "0RyvY_9FoqpU"
      },
      "source": [
        "\n",
        "#Listas de dos dimensiones\n",
        "\n",
        "autos = [\"Mazda\",\"Honda\",\"Akura\",\"VW\",]\n",
        "telefonos = [\"iPhone\",\"Huawei Mate 30\",\"Xiaomi s10\",\"Alcatel t1000\"]\n",
        "sistemas_operativos = [\"windows\",\"linux\",\"Android\",\"iOS\",\"MacOS\"]\n",
        "\n",
        "procesadores = [['intel',3.1,True],['AMD',2.7,False],['motorola',1.1,False]]\n",
        "\n",
        "lista_nd = [autos,telefonos,sistemas_operativos,procesadores]\n",
        "print(lista_nd)\n",
        "print(lista_nd[2][3])\n",
        "print(lista_nd[1][1][3:6])\n",
        "print(lista_nd[3][1][1])\n",
        "print(lista_nd[3][2][0][2:6])\n",
        "print(lista_nd[3][0][0][-2:-5:-1])\n",
        "\n",
        "\n",
        "#Concatenar listas\n",
        "colores = ['rojo','verde','azul','negro']\n",
        "flores = ['margarita','rosa']\n",
        "\n",
        "nueva = colores + flores\n",
        "print(nueva)\n",
        "print(colores)\n",
        "print(flores)\n",
        "\n",
        "# Con extend\n",
        "\n",
        "colores.extend(flores)\n",
        "print(colores)\n",
        "\n",
        "#Unpacking\n",
        "\n",
        "datos_personales = ['José','Pérez','Juárez',22,1.67,True]\n",
        "\n",
        "nombre,apellido,apellido2,edad,estat,fuma = datos_personales\n",
        "\n",
        "#Tuplas\n",
        "\n",
        "bd = ('127.0.0.1','root','toor','1345')\n",
        "\n",
        "print(f'el usuario de la bd es {bd[1]}')\n",
        "\n",
        "\n",
        "#bd[1] = 'user1'  Esto daría un error \n",
        "\n",
        "print(bd[1:3])\n",
        "\n",
        "#DICCIONARIOS\n",
        "\n",
        "alumno = {'nombre':'Juan','edad':22,'carrera':'ICO'}\n",
        "\n",
        "print(alumno['edad'])\n",
        "\n",
        "alumno = {\n",
        "'nombre':'Juan',\n",
        "'edad':22,\n",
        "'carrera':'ICO',\n",
        "'direccion':{'calle':'Bosques',\n",
        "\t\t\t'numero':33,\n",
        "\t\t\t'delegacion':'nezahualco',\n",
        "\t\t\t'estado':15,\n",
        "\t\t\t'nombre_estado': 'estado de Mexico'\n",
        "\t\t\t}\n",
        "\t\t}\n",
        "\n",
        "print(alumno['direccion']['delegacion'])\n",
        "\n",
        "print(alumno['direccion']['delegacion'][3:7])\n",
        "\n",
        "alumno['edad'] = 35\n",
        "\n",
        "print(alumno)\n",
        "\n",
        "alumno['promedio'] = 9\n",
        "\n",
        "print(alumno)\n"
      ],
      "execution_count": null,
      "outputs": []
    }
  ]
}