{
  "nbformat": 4,
  "nbformat_minor": 0,
  "metadata": {
    "colab": {
      "name": "14_10_2020_1358.ipynb",
      "provenance": [],
      "authorship_tag": "ABX9TyNAVKDd0l0x/0dLNiproSXw",
      "include_colab_link": true
    },
    "kernelspec": {
      "name": "python3",
      "display_name": "Python 3"
    }
  },
  "cells": [
    {
      "cell_type": "markdown",
      "metadata": {
        "id": "view-in-github",
        "colab_type": "text"
      },
      "source": [
        "<a href=\"https://colab.research.google.com/github/Andre-PeraltaM/edd_1358_2021/blob/master/14_10_2020_1358.ipynb\" target=\"_parent\"><img src=\"https://colab.research.google.com/assets/colab-badge.svg\" alt=\"Open In Colab\"/></a>"
      ]
    },
    {
      "cell_type": "code",
      "metadata": {
        "id": "zKOzDEuD4ZkN",
        "outputId": "4c7e9ad9-1c27-43ee-add0-b4f4152f03cb",
        "colab": {
          "base_uri": "https://localhost:8080/",
          "height": 171
        }
      },
      "source": [
        "def calcular(a,b,c):\n",
        "\tx = a+(b/c)\n",
        "\treturn x\n",
        "print(calcular(5,9,3))\n",
        "print(calcular(b=9,a = 5,c =3))\n",
        "\n",
        "def calcular_v2(a=10,b=20,c=5):\n",
        "\tx = a+(b/c)\n",
        "\treturn x\n",
        "print(calcular_v2())\n",
        "\n",
        "cal = lambda a,b,c: a+(b/c)\n",
        "\n",
        "print(cal(5,9,3))\n",
        "\n",
        "#Argumentos a funciones por tupla *\n",
        "\n",
        "'''\n",
        "Se envían los argumentos en un conjunto de elementos de una tupla\n",
        "'''\n",
        "def calculo(*elem):#No utiliza todos los elementos\n",
        "\tprint(elem)\n",
        "\tx = elem[0] + (elem[1]/ elem[2])\n",
        "\treturn x\n",
        "print(calculo(5,9,3))\n",
        "\n",
        "def calculo_dic(**elemento):#Diccionario\n",
        "\tprint(elemento)\n",
        "\tx = elemento['a'] + (elemento['b']/elemento['c'])\n",
        "\treturn x\n",
        "print(calculo_dic(a=5,b=9,c=3))\n",
        "\n",
        "#Archivos\n",
        "'''\n",
        "archivo.open('ejemplo.txt','wt')\n",
        "archivo.write('Hola mundo de archivos')\n",
        "archivo.close()#Debemos cerrarlo\n",
        "'''\n"
      ],
      "execution_count": 3,
      "outputs": [
        {
          "output_type": "stream",
          "text": [
            "8.0\n",
            "8.0\n",
            "14.0\n",
            "8.0\n",
            "(5, 9, 3)\n",
            "8.0\n",
            "{'a': 5, 'b': 9, 'c': 3}\n",
            "8.0\n"
          ],
          "name": "stdout"
        },
        {
          "output_type": "execute_result",
          "data": {
            "application/vnd.google.colaboratory.intrinsic+json": {
              "type": "string"
            },
            "text/plain": [
              "\"\\narchivo.open('ejemplo.txt','wt')\\narchivo.write('Hola mundo de archivos')\\narchivo.close()#Debemos cerrarlo\\n\""
            ]
          },
          "metadata": {
            "tags": []
          },
          "execution_count": 3
        }
      ]
    },
    {
      "cell_type": "markdown",
      "metadata": {
        "id": "YlkRANOZ4rVe"
      },
      "source": [
        "# Nueva sección\n",
        "asdasdasdas"
      ]
    }
  ]
}