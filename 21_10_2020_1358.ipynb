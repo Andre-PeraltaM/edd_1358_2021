{
  "nbformat": 4,
  "nbformat_minor": 0,
  "metadata": {
    "colab": {
      "name": "21/10/2020_1358.ipynb",
      "provenance": [],
      "authorship_tag": "ABX9TyNGBpYzCKNqdxeWApXlqSp8",
      "include_colab_link": true
    },
    "kernelspec": {
      "name": "python3",
      "display_name": "Python 3"
    }
  },
  "cells": [
    {
      "cell_type": "markdown",
      "metadata": {
        "id": "view-in-github",
        "colab_type": "text"
      },
      "source": [
        "<a href=\"https://colab.research.google.com/github/Andre-PeraltaM/edd_1358_2021/blob/master/21_10_2020_1358.ipynb\" target=\"_parent\"><img src=\"https://colab.research.google.com/assets/colab-badge.svg\" alt=\"Open In Colab\"/></a>"
      ]
    },
    {
      "cell_type": "code",
      "metadata": {
        "id": "nSPfZXJZtd3c",
        "outputId": "49cf4eda-d76f-4c22-f076-9782b6621d2d",
        "colab": {
          "base_uri": "https://localhost:8080/",
          "height": 187
        }
      },
      "source": [
        "class SmartPhone: #Encapsulameinto tipo java (clasico)\n",
        "\tdef __init__(self,m):\n",
        "\t\tself.__marca = m\n",
        "\tdef set_marca(self , m):\n",
        "\t\tself.__marca = m\n",
        "\tdef get_marca(self):\n",
        "\t\treturn self.__marca\n",
        "\n",
        "\tdef to_string(self):\n",
        "\t\treturn \"La marca del telefono es:\" + self.__marca\n",
        "\n",
        "sp1 = SmartPhone('Huawei')\n",
        "\n",
        "print(sp1.to_string())\n",
        "\n",
        "sp1.__marca = 'iPhone X' #Los atributos privados impiden que podamos cambiala\n",
        "\n",
        "print(sp1.to_string())\n",
        "\n",
        "sp1.set_marca('Samsung') #Por medio del encapsulamiento pordemos cambiarlo\n",
        "\n",
        "print(sp1.to_string())\n",
        "\n",
        "\n",
        "class SmartPhone: #Estilo python 3 \n",
        "\tdef __init__( self , m ):\n",
        "\t\tself.marca = m #llamando al método get\n",
        "\n",
        "\t@property\n",
        "\tdef marca(self): #define metodo get y declara self.__marca\n",
        "\n",
        "\t\treturn self.__marca\n",
        "\t@marca.setter\n",
        "\tdef marca(self,m):#Aqui se ponen evaluaciones para comprobar si el dato es valido\n",
        "\t\tif m in ['Lenovo','Sony','Motorola','iPhone SE','Huawei', 'Xiaomi']:\n",
        "\n",
        "\t\t\tself.__marca = m\n",
        "\t\telse:\n",
        "\t\t\tprint('Asignación no valida')\n",
        "\tdef to_string(self):\n",
        "\n",
        "\t\treturn 'Marca = ' + self.marca\n",
        "\n",
        "#Lo mismo que con la versioón clasica pero de otro modo\t\n",
        "sp2 = SmartPhone('Xiaomi')\n",
        "print(sp2.to_string())\n",
        "sp2.__marca = 'iPhone SE'\n",
        "print(sp2.to_string())\n",
        "sp2.marca = 'Motorola' #Invocacion del metodo set\n",
        "print(sp2.to_string())\n",
        "\n",
        "print(sp2.marca) #Invocacion metodo get\n",
        "\n",
        "sp2.marca = '34234'\n",
        "print(sp2.marca)\n",
        "\n",
        "\n",
        "class TelefonoTrabajo(SmartPhone):\n",
        "\tdef __init__(self,m):\n",
        "\t\tself.marca = m \n",
        "sp3 = TelefonoTrabajo('Motorola')\n",
        "print(sp3.to_string())"
      ],
      "execution_count": 1,
      "outputs": [
        {
          "output_type": "stream",
          "text": [
            "La marca del telefono es:Huawei\n",
            "La marca del telefono es:Huawei\n",
            "La marca del telefono es:Samsung\n",
            "Marca = Xiaomi\n",
            "Marca = Xiaomi\n",
            "Marca = Motorola\n",
            "Motorola\n",
            "Asignación no valida\n",
            "Motorola\n",
            "Marca = Motorola\n"
          ],
          "name": "stdout"
        }
      ]
    }
  ]
}