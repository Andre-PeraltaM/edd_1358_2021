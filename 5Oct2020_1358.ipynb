{
  "nbformat": 4,
  "nbformat_minor": 0,
  "metadata": {
    "colab": {
      "name": "5Oct2020_1358.ipynb",
      "provenance": [],
      "collapsed_sections": [],
      "authorship_tag": "ABX9TyN/y30dDU6E3Dee6JZXe599",
      "include_colab_link": true
    },
    "kernelspec": {
      "name": "python3",
      "display_name": "Python 3"
    }
  },
  "cells": [
    {
      "cell_type": "markdown",
      "metadata": {
        "id": "view-in-github",
        "colab_type": "text"
      },
      "source": [
        "<a href=\"https://colab.research.google.com/github/Andre-PeraltaM/edd_1358_2021/blob/master/5Oct2020_1358.ipynb\" target=\"_parent\"><img src=\"https://colab.research.google.com/assets/colab-badge.svg\" alt=\"Open In Colab\"/></a>"
      ]
    },
    {
      "cell_type": "code",
      "metadata": {
        "id": "Fb4VEzv5R_9K"
      },
      "source": [
        "#Formas de usar print\n",
        "\n",
        "precio = 12.5\n",
        "cantidad = 2\n",
        "existencia = True\n",
        "\n",
        "print(\"precio de los chetos es de\", precio ,\"y quiero \",cantidad ,\"hay?:\", existencia)#Por comas\n",
        "\n",
        "print(\"precio de los chetos es de {} y quiero {} hay?: {}\".format(precio,cantidad,existencia)) #Format\n",
        "\n",
        "print(f\"precio de los chetos es de {precio} y quiero {cantidad} hay?: {existencia}\")#Operador f\n",
        "'''\n",
        "Listas:mutables\n",
        "Tuplas:inmutables\n",
        "Diccionarios :  conjuntos de datos pares\n",
        "Conjuntos\n",
        "'''\n",
        "#Listas\n",
        "materias = [\"CyP\",\"DAA\",\"EDD\",\"IS\",\"POO\"]\n",
        "print(materias[2])\n",
        "\n",
        "#Lista al reves\n",
        "print(materias[::-1])\n",
        "\n",
        "\n",
        "#Creamos un string\n",
        "fecha = \"05/octubre/2020\"\n",
        "#Crear una lista a partir de un string\n",
        "lista = fecha.split(\"/\")\n",
        "#Crear un string a partir de una lista\n",
        "stringEjemplo = \":\".join(lista)\n",
        "print(stringEjemplo)\n",
        "\n",
        "#Otro ejemplo\n",
        "lista_hora = [\"13\",\"45\",\"23\"]\n",
        "#Y su conversión a string\n",
        "string_hora = \":\".join(lista_hora)\n",
        "print(string_hora)\n",
        "\n",
        "materias.append(\"Fisica\")#Agregar elemento a lista\n",
        "print(materias)\n",
        "materias.pop()#Quitar elemento de una lista\n",
        "print(materias)\n",
        "\n",
        "materias.clear()#Vaciar lista\n",
        "print(materias)\n",
        "\n",
        "numeros = list(range(11))\n",
        "print(numeros)\n",
        "print(numeros[4:9])#Numeros del 4 al 8\n",
        "print(numeros[::-1])\n",
        "\n",
        "numeros[4:9:1] = [-2] #Sustituir todo un segmento de una lista \n",
        "print(numeros)\n",
        "\n",
        "#Listas de dos dimensiones\n",
        "\n",
        "autos = [\"Mazda\",\"Honda\",\"Akura\",\"VW\",]\n",
        "telefonos = [\"iPhone\",\"Huawei Mate 30\",\"Xiaomi s10\",\"Alcatel t1000\"]\n",
        "sistemas_operativos = [\"windows\",\"linux\",\"Android\",\"iOS\",\"MacOS\"]\n",
        "\n",
        "lista_2d = [autos,telefonos,sistemas_operativos] #Lista con listas como elementos\n",
        "\n",
        "print(lista_2d)\n",
        "\n",
        "print(lista_2d[1][1]) # Huawei Mate 30"
      ],
      "execution_count": null,
      "outputs": []
    }
  ]
}