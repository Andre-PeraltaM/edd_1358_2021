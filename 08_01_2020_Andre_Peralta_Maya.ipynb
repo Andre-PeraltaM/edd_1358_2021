{
  "nbformat": 4,
  "nbformat_minor": 0,
  "metadata": {
    "colab": {
      "name": "08_01_2020_Andre_Peralta_Maya.ipynb",
      "provenance": [],
      "authorship_tag": "ABX9TyOEQft2lmVxIb1ZdDCrg62X",
      "include_colab_link": true
    },
    "kernelspec": {
      "name": "python3",
      "display_name": "Python 3"
    }
  },
  "cells": [
    {
      "cell_type": "markdown",
      "metadata": {
        "id": "view-in-github",
        "colab_type": "text"
      },
      "source": [
        "<a href=\"https://colab.research.google.com/github/Andre-PeraltaM/edd_1358_2021/blob/master/08_01_2020_Andre_Peralta_Maya.ipynb\" target=\"_parent\"><img src=\"https://colab.research.google.com/assets/colab-badge.svg\" alt=\"Open In Colab\"/></a>"
      ]
    },
    {
      "cell_type": "code",
      "metadata": {
        "colab": {
          "base_uri": "https://localhost:8080/"
        },
        "id": "wN8RGRmaAUr4",
        "outputId": "bf2e32e5-2406-4d26-9839-4ceac52ee859"
      },
      "source": [
        "class Queue:\r\n",
        "\tdef __init__(self):\r\n",
        "\t\tself.__data = []\r\n",
        "\tdef is_empty(self):\r\n",
        "\t\treturn len(self.__data) == 0\r\n",
        "\tdef length(self):\r\n",
        "\t\treturn len(self.__data)\r\n",
        "\tdef enqueue(self,elem):\r\n",
        "\t\tself.__data.append(elem)\r\n",
        "\tdef dequeue(self):\r\n",
        "\t\tif len(self.__data) > 0:\r\n",
        "\t\t\treturn self.__data.pop(0)\r\n",
        "\t\treturn None\r\n",
        "\tdef to_string(self):\r\n",
        "\t\tx = []\r\n",
        "\t\tfor i in self.__data:\r\n",
        "\t\t\tx.append(f'|{i}')\r\n",
        "\t\tx.append('|')\r\n",
        "\t\treturn x\r\n",
        "\r\n",
        "\r\n",
        "class BoundedPriorityQueue:\r\n",
        "    def __init__( self , niveles ):\r\n",
        "        self.__data = [ Queue() for x in range(niveles) ]\r\n",
        "        self.__size = 0\r\n",
        "\r\n",
        "    def is_empty( self ):\r\n",
        "        return self.__size == 0\r\n",
        "    \r\n",
        "    def length( self ):\r\n",
        "        return self.__size\r\n",
        "    \r\n",
        "    def enqueue( self , prioridad , elem ):\r\n",
        "        if prioridad < len(self.__data) and prioridad >= 0:\r\n",
        "            self.__data[prioridad].enqueue(elem)\r\n",
        "            self.__size +=1\r\n",
        "        else:\r\n",
        "            print(\"Prioridad fuera de rango.\")\r\n",
        "    \r\n",
        "    def dequeue( self ):\r\n",
        "        if not self.is_empty():\r\n",
        "            nivel = 0\r\n",
        "            while self.__data[nivel].is_empty():\r\n",
        "                nivel += 1\r\n",
        "            return self.__data[nivel].dequeue()\r\n",
        "    \r\n",
        "    def to_string( self ):\r\n",
        "        for nivel in range( len(self.__data) ):\r\n",
        "            print(f\" Nivel { nivel } --> { self.__data[nivel].to_string() } \")\r\n",
        "barco = BoundedPriorityQueue(5)\r\n",
        "barco.enqueue(4,'Andre')\r\n",
        "barco.enqueue(2,'Sofia')\r\n",
        "barco.enqueue(4,'Natalia')\r\n",
        "barco.enqueue(3,'Luisa')\r\n",
        "barco.enqueue(2,'Itzel')\r\n",
        "barco.enqueue(1,'Daniela')\r\n",
        "barco.enqueue(3,'Mariana')\r\n",
        "barco.enqueue(4,'Adriana')\r\n",
        "\r\n",
        "barco.to_string()\r\n"
      ],
      "execution_count": 8,
      "outputs": [
        {
          "output_type": "stream",
          "text": [
            " Nivel 0 --> ['|'] \n",
            " Nivel 1 --> ['|Daniela', '|'] \n",
            " Nivel 2 --> ['|Sofia', '|Itzel', '|'] \n",
            " Nivel 3 --> ['|Luisa', '|Mariana', '|'] \n",
            " Nivel 4 --> ['|Andre', '|Natalia', '|Adriana', '|'] \n"
          ],
          "name": "stdout"
        }
      ]
    }
  ]
}