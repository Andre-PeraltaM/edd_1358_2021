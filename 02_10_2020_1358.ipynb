{
  "nbformat": 4,
  "nbformat_minor": 0,
  "metadata": {
    "colab": {
      "name": "02/10/2020_1358.ipynb",
      "provenance": [],
      "authorship_tag": "ABX9TyNatq3OmjBwU0q2ejxBeDB0",
      "include_colab_link": true
    },
    "kernelspec": {
      "name": "python3",
      "display_name": "Python 3"
    }
  },
  "cells": [
    {
      "cell_type": "markdown",
      "metadata": {
        "id": "view-in-github",
        "colab_type": "text"
      },
      "source": [
        "<a href=\"https://colab.research.google.com/github/Andre-PeraltaM/edd_1358_2021/blob/master/02_10_2020_1358.ipynb\" target=\"_parent\"><img src=\"https://colab.research.google.com/assets/colab-badge.svg\" alt=\"Open In Colab\"/></a>"
      ]
    },
    {
      "cell_type": "code",
      "metadata": {
        "id": "NbXELHPnzrWd",
        "outputId": "bfbb5208-e220-4fb6-8b96-f46f82eef72a",
        "colab": {
          "base_uri": "https://localhost:8080/",
          "height": 153
        }
      },
      "source": [
        "#Tipos de datos\n",
        "\n",
        "#- string str\n",
        "#- entero int\n",
        "#- flotante float \n",
        "#- logico bool \n",
        "#- complejo complex \n",
        "#- listas list \n",
        "#- tuplas tuple \n",
        "#- diccionarios dict \n",
        "#- conjuntos set\n",
        "#- numero grande long \n",
        "\n",
        "#tipos de comillas '' , \" \" ó \"\"\"   \"\"\"\n",
        "\n",
        "\n",
        "s = \"universidad     nacional de mexico \"\n",
        "\n",
        "lista = s.split(\" \")\n",
        "lista2 = [ ]\n",
        "\n",
        "for i in lista:\n",
        "\tif len(i) > 0:\n",
        "\t\tlista2 += i + \" \"\n",
        "\n",
        "print(lista2)\n",
        "print(\" \".join(lista2))\n",
        "\n",
        "\n",
        "numerosx = \"1,2,3,4,5,6\"\n",
        "numeros = numerosx.split(\",\")\n",
        "\n",
        "listaNumeros = []\n",
        "for i in numeros:\n",
        "\tlistaNumeros.append(int(i))\n",
        "print(listaNumeros)\n",
        "\n",
        "\n",
        "\n",
        "#Slicing\t\n",
        "\n",
        "print(s[0])\n",
        "print(s[-1])\n",
        "\n",
        "nueva = \"mexico\"\n",
        "\n",
        "print( nueva[ -1 : -7 : -1 ] )\n",
        "\n",
        "#Booleanos\n",
        "\n",
        "#False = bool(0) \n",
        "#True = bool(1)\n",
        "\n",
        "\"\"\"\n",
        "comentario de multiples lineas\n",
        "\"\"\"\n",
        "\n",
        "#print con comas\n",
        "\n",
        "x=1\n",
        "y=2\n",
        "w=3\n",
        "\n",
        "print(x,y,w)\n",
        "\n",
        "#print con sumas\n",
        "print(x+y+w)\n",
        "\n",
        "#Un operador sobre cargado es aquel que funciona difente dependiendo de los datos que tenga"
      ],
      "execution_count": 16,
      "outputs": [
        {
          "output_type": "stream",
          "text": [
            "['u', 'n', 'i', 'v', 'e', 'r', 's', 'i', 'd', 'a', 'd', ' ', 'n', 'a', 'c', 'i', 'o', 'n', 'a', 'l', ' ', 'd', 'e', ' ', 'm', 'e', 'x', 'i', 'c', 'o', ' ']\n",
            "u n i v e r s i d a d   n a c i o n a l   d e   m e x i c o  \n",
            "[1, 2, 3, 4, 5, 6]\n",
            "u\n",
            " \n",
            "ocixem\n",
            "1 2 3\n",
            "6\n"
          ],
          "name": "stdout"
        }
      ]
    }
  ]
}