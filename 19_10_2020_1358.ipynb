{
  "nbformat": 4,
  "nbformat_minor": 0,
  "metadata": {
    "colab": {
      "name": "19-10-2020_1358.ipynb",
      "provenance": [],
      "collapsed_sections": [],
      "authorship_tag": "ABX9TyOJnnh8VI+HB8xfkQVqi/6s",
      "include_colab_link": true
    },
    "kernelspec": {
      "name": "python3",
      "display_name": "Python 3"
    }
  },
  "cells": [
    {
      "cell_type": "markdown",
      "metadata": {
        "id": "view-in-github",
        "colab_type": "text"
      },
      "source": [
        "<a href=\"https://colab.research.google.com/github/Andre-PeraltaM/edd_1358_2021/blob/master/19_10_2020_1358.ipynb\" target=\"_parent\"><img src=\"https://colab.research.google.com/assets/colab-badge.svg\" alt=\"Open In Colab\"/></a>"
      ]
    },
    {
      "cell_type": "code",
      "metadata": {
        "id": "TXDTXmFLY41A",
        "outputId": "4b924447-db01-4c7c-8fe8-03c6f809398b",
        "colab": {
          "base_uri": "https://localhost:8080/",
          "height": 357
        }
      },
      "source": [
        "with open('frutas.txt','r') as archivo:\n",
        "\tdata = archivo.read()\n",
        "\n",
        "print(data.upper())#Mayusculas\n",
        "\n",
        "with open('frutas.txt','r') as archivo:\n",
        "\tdata = archivo.readline() #Sólo lee la primera linea\n",
        "print(data) #Resultado\n",
        "\n",
        "#Leer linea por linea\n",
        "with open('frutas.txt','r') as archivo:  #DATO MUY ÚTIL PARA FUTUROS PROGRAMAS\n",
        "  \n",
        "  while data != \"\":\n",
        "    data = archivo.readline()\n",
        "    print(data)\n",
        "\n",
        "\n",
        "with open('frutas.txt','r') as archivo:\n",
        "\tdata = archivo.readlines()\n",
        "\n",
        "  \n",
        "print(data)\n",
        "\n",
        "with open('frutas.txt','r') as archivo:\n",
        "\tdata = archivo.read()\n",
        "\n",
        "print(data.upper())#Mayusculas\n",
        "\n",
        "with open('frutas.txt','r') as archivo:\n",
        "\tdata = archivo.readline() #Sólo lee la primera linea\n",
        "print(data) #Resultado\n",
        "\n",
        "\n",
        "with open('frutas.txt','r') as archivo:\n",
        "    data = archivo.read()\n",
        "\n",
        "data = data.replace('\\n','').replace(' ','').split(',')\n",
        "#cambiar los saltos de linea por comas, luego quitamos los espacios y al final hacemos un split por comas\n",
        "\n",
        "print(data)\n",
        "#POO en python\n",
        "'''\n",
        "clase\n",
        "objetos\n",
        "atributos\n",
        "metodos\n",
        "método constructor\n",
        "encapsulamiento (publico y privado)\n",
        "'''\n",
        "\n",
        "class Persona:\n",
        "\tdef __init__(self,edd,est):\n",
        "\t\tself.__edad = edd\n",
        "\t\tself.__estatura = est\n",
        "\n",
        "\tdef to_string(self):#Es necesario el self\n",
        "\t\tprint(f'Edad : {self.__edad}, Estatura : {self.__estatura}')\n",
        "\n",
        "\n",
        "\n",
        "per1 = Persona(23,1.78)\n",
        "per1.to_string()#Envía al objeto per1 a la funcion to_String\n",
        "#Por eso es necesario el self, de otro modo no necesitaría argumentos\n",
        "\n",
        "per1.estatura = 10.4 #Esto está en contra del principio de encapsulamiento\n",
        "#Para ello hacemos los atributos privados (encapsularlos)\n",
        "\n",
        "#Una vez puestos los guiones no se va a modificar\n",
        "per1.to_string() \n",
        "\n"
      ],
      "execution_count": 18,
      "outputs": [
        {
          "output_type": "stream",
          "text": [
            "LIMON, AGUACATE, FRESA, MANZANA\n",
            "CIRUELA, CAPULIN, NARANJA\n",
            "PERA, KIWI\n",
            "limon, aguacate, fresa, manzana\n",
            "\n",
            "limon, aguacate, fresa, manzana\n",
            "\n",
            "ciruela, capulin, naranja\n",
            "\n",
            "pera, kiwi\n",
            "\n",
            "['limon, aguacate, fresa, manzana\\n', 'ciruela, capulin, naranja\\n', 'pera, kiwi']\n",
            "LIMON, AGUACATE, FRESA, MANZANA\n",
            "CIRUELA, CAPULIN, NARANJA\n",
            "PERA, KIWI\n",
            "limon, aguacate, fresa, manzana\n",
            "\n",
            "['limon', 'aguacate', 'fresa', 'manzanaciruela', 'capulin', 'naranjapera', 'kiwi']\n",
            "Edad : 23, Estatura : 1.78\n",
            "Edad : 23, Estatura : 1.78\n"
          ],
          "name": "stdout"
        }
      ]
    }
  ]
}