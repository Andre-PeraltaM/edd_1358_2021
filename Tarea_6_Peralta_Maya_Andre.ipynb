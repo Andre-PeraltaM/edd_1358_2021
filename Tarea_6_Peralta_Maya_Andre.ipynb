{
  "nbformat": 4,
  "nbformat_minor": 0,
  "metadata": {
    "colab": {
      "name": "Tarea_6_Peralta_Maya_Andre.ipynb",
      "provenance": [],
      "authorship_tag": "ABX9TyOnSnkLgINCdg3eZNN+jSGR",
      "include_colab_link": true
    },
    "kernelspec": {
      "name": "python3",
      "display_name": "Python 3"
    }
  },
  "cells": [
    {
      "cell_type": "markdown",
      "metadata": {
        "id": "view-in-github",
        "colab_type": "text"
      },
      "source": [
        "<a href=\"https://colab.research.google.com/github/Andre-PeraltaM/edd_1358_2021/blob/master/Tarea_6_Peralta_Maya_Andre.ipynb\" target=\"_parent\"><img src=\"https://colab.research.google.com/assets/colab-badge.svg\" alt=\"Open In Colab\"/></a>"
      ]
    },
    {
      "cell_type": "code",
      "metadata": {
        "colab": {
          "base_uri": "https://localhost:8080/"
        },
        "id": "yQUPdDA11bp6",
        "outputId": "863aaa0a-7dd6-4ff5-8d41-674b6b7f0edf"
      },
      "source": [
        "class Nodo:\n",
        "    def __init__( self , dato, siguiente = None):\n",
        "        self.dato = dato\n",
        "        self.siguiente = siguiente\n",
        "        \n",
        "class CircularList( ):\n",
        "\tdef __init__(self):\n",
        "\t\tself.__ref = None\n",
        "\t\tself.__size = 0\n",
        "\n",
        "\tdef is_empty(self):\n",
        "\t\treturn self.__size == 0\n",
        "\n",
        "\tdef insert(self, value ):\n",
        "\t\t\n",
        "\t\tif self.__ref == None:#0 valores\n",
        "\t\t\tself.__ref = Nodo(value)\n",
        "\n",
        "\t\telif value >= self.__ref.dato and self.__ref.siguiente == None:#Si es el mayor pero sólo hay uno\n",
        "\t\t\tself.__ref.siguiente = Nodo(value,self.__ref)\n",
        "\t\t\tself.__ref = self.__ref.siguiente\n",
        "\n",
        "\t\telif value >= self.__ref.dato:#Por si es el mayor de todos \n",
        "\t\t\tself.__ref.siguiente = Nodo(value,self.__ref.siguiente)\n",
        "\t\t\tself.__ref = self.__ref.siguiente\n",
        "\n",
        "\t\telif value < self.__ref.dato and self.__ref.siguiente == None: #Por si es el menor pero sólo hay uno\n",
        "\t\t\tself.__ref.siguiente = Nodo(value,self.__ref)\n",
        "\n",
        "\t\telif value < self.__ref.siguiente.dato:#Si es el menor\n",
        "\t\t\tself.__ref.siguiente = Nodo(value,self.__ref.siguiente)\n",
        "\n",
        "\t\telse:#Ninguna de las anteriores\n",
        "\t\t\tcurr_node = self.__ref.siguiente\n",
        "\t\t\twhile curr_node.dato != self.__ref.dato:\n",
        "\t\t\t\tif value > curr_node.dato and value < curr_node.siguiente.dato:\n",
        "\t\t\t\t\tcurr_node.siguiente = Nodo(value,curr_node.siguiente)\n",
        "\t\t\t\tcurr_node = curr_node.siguiente\n",
        "\n",
        "\t\tself.__size += 1\n",
        "\n",
        "\tdef transversal(self):\n",
        "\t\tcurr_node = self.__ref.siguiente\n",
        "\t\tif self.__ref != None:\n",
        "\t\t\tfor i in range(self.__size):\n",
        "\t\t\t\tprint(curr_node.dato, \"-->\" , end=\"\")\n",
        "\t\t\t\tcurr_node = curr_node.siguiente\n",
        "\t\t\tprint('\\n')\n",
        "\t\telse:\n",
        "\t\t\tprint('Lista vacia')\n",
        "\n",
        "\tdef search(self, value ):\n",
        "\t\tcurr_node = self.__ref\n",
        "\t\tif self.__ref != None:\n",
        "\t\t\tfor i in range(self.__size):\n",
        "\t\t\t\tif curr_node.dato == value:\n",
        "\t\t\t\t\treturn True\n",
        "\t\t\t\tcurr_node = curr_node.siguiente\n",
        "\t\treturn False\n",
        "\n",
        "\tdef remove(self,value):\n",
        "\n",
        "\t\tcurr_node = self.__ref\n",
        "\t\tif self.__ref != None:\n",
        "\t\t\tfor i in range(self.__size):\n",
        "\t\t\t\tif curr_node.siguiente.dato == value:\n",
        "\t\t\t\t\tcurr_node.siguiente = curr_node.siguiente.siguiente\n",
        "\t\t\t\t\tself.__size -= 1\n",
        "\t\t\t\t\treturn None\n",
        "\t\t\t\telse:\n",
        "\t\t\t\t\tcurr_node = curr_node.siguiente\n",
        "\n",
        "\n",
        "\n",
        "x = CircularList()\n",
        "\n",
        "x.insert(10)\n",
        "x.insert(20)\n",
        "x.insert(54)\n",
        "x.insert(5)\n",
        "x.insert(25)\n",
        "\n",
        "x.transversal()\n",
        "\n",
        "print(x.search(11))\n",
        "print(x.search(5))\n",
        "\n",
        "x.remove(25)\n",
        "x.remove(10)\n",
        "x.remove(5)\n",
        "\n",
        "x.transversal()\n"
      ],
      "execution_count": 1,
      "outputs": [
        {
          "output_type": "stream",
          "text": [
            "5 -->10 -->20 -->25 -->54 -->\n",
            "\n",
            "False\n",
            "True\n",
            "20 -->54 -->\n",
            "\n"
          ],
          "name": "stdout"
        }
      ]
    }
  ]
}