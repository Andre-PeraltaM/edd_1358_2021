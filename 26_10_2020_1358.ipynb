{
  "nbformat": 4,
  "nbformat_minor": 0,
  "metadata": {
    "colab": {
      "name": "26/10/2020_1358.ipynb",
      "provenance": [],
      "collapsed_sections": [],
      "authorship_tag": "ABX9TyMgWQYoJyh/T9FoeIOjTqfm",
      "include_colab_link": true
    },
    "kernelspec": {
      "name": "python3",
      "display_name": "Python 3"
    }
  },
  "cells": [
    {
      "cell_type": "markdown",
      "metadata": {
        "id": "view-in-github",
        "colab_type": "text"
      },
      "source": [
        "<a href=\"https://colab.research.google.com/github/Andre-PeraltaM/edd_1358_2021/blob/master/26_10_2020_1358.ipynb\" target=\"_parent\"><img src=\"https://colab.research.google.com/assets/colab-badge.svg\" alt=\"Open In Colab\"/></a>"
      ]
    },
    {
      "cell_type": "code",
      "metadata": {
        "id": "k2qUisdB5Ji4",
        "outputId": "9c902984-49c0-46cf-a78f-82a75288af0f",
        "colab": {
          "base_uri": "https://localhost:8080/",
          "height": 34
        }
      },
      "source": [
        "'''\n",
        "Array\n",
        "'''\n",
        "\n",
        "class Array:\n",
        "\tdef __init__(self,tam):#Array?\n",
        "\t\t'''constructor de un tamaño específico del arreglo.'''\n",
        "\t\tself.__datos = [0 for x in range(tam)]\n",
        "\t\t\n",
        "\tdef get_Item(self,index):\n",
        "\t\t''' Obtener elemento en la posición espécifica'''\n",
        "\t\treturn self.__datos[index]\n",
        "    \n",
        "\tdef set_Item(dato, index):\n",
        "\t\t'''obtener elemento en la posición espécifica '''\n",
        "\n",
        "\tdef get_Length():\n",
        "\t\t''' Obtener el tamaño del arreglo.'''\n",
        "\t\treturn \n",
        "\tdef Clear(dato):\n",
        "\t\t'''establece todos los valores del ADT al valor enviado en dato.'''\n",
        "\tdef get_Iterador():\n",
        "\t\t'''regresa el iterador del ADT-'''\n",
        "\n",
        "mi_arreglo = Array(10)\n",
        "print(mi_arreglo.get_Item(2))"
      ],
      "execution_count": 1,
      "outputs": [
        {
          "output_type": "stream",
          "text": [
            "0\n"
          ],
          "name": "stdout"
        }
      ]
    }
  ]
}