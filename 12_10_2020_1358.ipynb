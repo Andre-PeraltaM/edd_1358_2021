{
  "nbformat": 4,
  "nbformat_minor": 0,
  "metadata": {
    "colab": {
      "name": "12_10_2020_1358.ipynb",
      "provenance": [],
      "collapsed_sections": [],
      "authorship_tag": "ABX9TyNCxnuW0AcPG3+IrkkXIPg5",
      "include_colab_link": true
    },
    "kernelspec": {
      "name": "python3",
      "display_name": "Python 3"
    }
  },
  "cells": [
    {
      "cell_type": "markdown",
      "metadata": {
        "id": "view-in-github",
        "colab_type": "text"
      },
      "source": [
        "<a href=\"https://colab.research.google.com/github/Andre-PeraltaM/edd_1358_2021/blob/master/12_10_2020_1358.ipynb\" target=\"_parent\"><img src=\"https://colab.research.google.com/assets/colab-badge.svg\" alt=\"Open In Colab\"/></a>"
      ]
    },
    {
      "cell_type": "code",
      "metadata": {
        "id": "FSlkTiRxWM6F",
        "outputId": "546a452e-12d3-40fc-e8ce-665601514d72",
        "colab": {
          "base_uri": "https://localhost:8080/",
          "height": 428
        }
      },
      "source": [
        "#Siguiente clase arreglos dentro de diccionarios\n",
        "\n",
        "#del alumno['']\n",
        "\n",
        "\n",
        "#Diccionario (continuación)\n",
        "cliente_banco = {\n",
        "\t'id' : 1,\n",
        "\t'nombres': ['Juan','Antonio'],\n",
        "\t'paterno': 'García',\n",
        "\t'materno' : 'Pérez',\n",
        "\t'telefonos' : {'casa': 55123213,\n",
        "\t'celular': 551232131,\n",
        "\t'trabajo': 551321321,\n",
        "\n",
        "\n",
        "\t},\n",
        "\t'activo' : True,\n",
        "\t'balance': 234334.89,\n",
        "\t'tarjetas':({'tipo':'debito','saldo':12000},{'tipo':'credito','saldo':3500.0})\n",
        "}\n",
        "\n",
        "\n",
        "x,y= cliente_banco['tarjetas']\n",
        "z = {'tipo':'asdas','saldo':12000}\n",
        "cliente_banco['tarjetas'] = x,y,z\n",
        "cliente_banco['direccion']={'calle':'rancho seco','num':23}\n",
        "\n",
        "\n",
        "llaves = cliente_banco.items()\n",
        "valores = cliente_banco.values()\n",
        "\n",
        "for x in llaves:\n",
        "\tprint(x)\n",
        "for v in valores:\n",
        "\tprint(v)\n",
        "\n",
        "pares = cliente_banco.items()\n",
        "print(pares)\n",
        "\n",
        "\n",
        "fruta = {'nombre':'manzana','color':'rojo','estado':'chihuahua'}\n",
        "otras_caracteristicas = {'vitamina':'D'}\n",
        "fruta.update(otras_caracteristicas)\n",
        "print(fruta)\n",
        "\n",
        "'''\n",
        "'''\n",
        "#FUNCIONES\n",
        "def suma(a,b):\n",
        "\treturn a+b\n",
        "a = 3\n",
        "b=6\n",
        "c = suma(a,b)\n",
        "\n",
        "print(c)\n",
        "\n",
        "suma_dos = lambda x,y : x + y\n",
        "print(suma_dos(a,b))\n",
        "\n",
        "#Aprovechar el uso de none en paso de parametros.\n",
        "\n",
        "def calcular(base,veces):\n",
        "\tif base != None:\n",
        "\t\tresultado = base * veces\n",
        "\telse:\n",
        "\t\tresultado = 'desconocido'\n",
        "\treturn resultado\n",
        "\n",
        "\n",
        "calcular2 = lambda x,y : x * y #También se podria hacer\n",
        "\n",
        "print(calcular(None,3))"
      ],
      "execution_count": 3,
      "outputs": [
        {
          "output_type": "stream",
          "text": [
            "('id', 1)\n",
            "('nombres', ['Juan', 'Antonio'])\n",
            "('paterno', 'García')\n",
            "('materno', 'Pérez')\n",
            "('telefonos', {'casa': 55123213, 'celular': 551232131, 'trabajo': 551321321})\n",
            "('activo', True)\n",
            "('balance', 234334.89)\n",
            "('tarjetas', ({'tipo': 'debito', 'saldo': 12000}, {'tipo': 'credito', 'saldo': 3500.0}, {'tipo': 'asdas', 'saldo': 12000}))\n",
            "('direccion', {'calle': 'rancho seco', 'num': 23})\n",
            "1\n",
            "['Juan', 'Antonio']\n",
            "García\n",
            "Pérez\n",
            "{'casa': 55123213, 'celular': 551232131, 'trabajo': 551321321}\n",
            "True\n",
            "234334.89\n",
            "({'tipo': 'debito', 'saldo': 12000}, {'tipo': 'credito', 'saldo': 3500.0}, {'tipo': 'asdas', 'saldo': 12000})\n",
            "{'calle': 'rancho seco', 'num': 23}\n",
            "dict_items([('id', 1), ('nombres', ['Juan', 'Antonio']), ('paterno', 'García'), ('materno', 'Pérez'), ('telefonos', {'casa': 55123213, 'celular': 551232131, 'trabajo': 551321321}), ('activo', True), ('balance', 234334.89), ('tarjetas', ({'tipo': 'debito', 'saldo': 12000}, {'tipo': 'credito', 'saldo': 3500.0}, {'tipo': 'asdas', 'saldo': 12000})), ('direccion', {'calle': 'rancho seco', 'num': 23})])\n",
            "{'nombre': 'manzana', 'color': 'rojo', 'estado': 'chihuahua', 'vitamina': 'D'}\n",
            "9\n",
            "9\n",
            "desconocido\n"
          ],
          "name": "stdout"
        }
      ]
    }
  ]
}