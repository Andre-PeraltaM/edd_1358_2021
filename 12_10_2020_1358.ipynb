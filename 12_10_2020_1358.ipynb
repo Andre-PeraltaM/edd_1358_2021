{
  "nbformat": 4,
  "nbformat_minor": 0,
  "metadata": {
    "colab": {
      "name": "12_10_2020_1358.ipynb",
      "provenance": [],
      "authorship_tag": "ABX9TyPaudy4tjXSBhaZeHdDnDYQ",
      "include_colab_link": true
    },
    "kernelspec": {
      "name": "python3",
      "display_name": "Python 3"
    }
  },
  "cells": [
    {
      "cell_type": "markdown",
      "metadata": {
        "id": "view-in-github",
        "colab_type": "text"
      },
      "source": [
        "<a href=\"https://colab.research.google.com/github/Andre-PeraltaM/edd_1358_2021/blob/master/12_10_2020_1358.ipynb\" target=\"_parent\"><img src=\"https://colab.research.google.com/assets/colab-badge.svg\" alt=\"Open In Colab\"/></a>"
      ]
    },
    {
      "cell_type": "code",
      "metadata": {
        "id": "FSlkTiRxWM6F"
      },
      "source": [
        "#Siguiente clase arreglos dentro de diccionarios\n",
        "\n",
        "#del alumno['']\n",
        "\n",
        "\n",
        "#Diccionario (continuación)\n",
        "cliente_banco = {\n",
        "\t'id' : 1,\n",
        "\t'nombres': ['Juan','Antonio'],\n",
        "\t'paterno': 'García',\n",
        "\t'materno' : 'Pérez',\n",
        "\t'telefonos' : {'casa': 55123213,\n",
        "\t'celular': 551232131,\n",
        "\t'trabajo': 551321321,\n",
        "\n",
        "\n",
        "\t},\n",
        "\t'activo' : True,\n",
        "\t'balance': 234334.89,\n",
        "\t'tarjetas':({'tipo':'debito','saldo':12000},{'tipo':'credito','saldo':3500.0})\n",
        "}\n",
        "\n",
        "\n",
        "x,y= cliente_banco['tarjetas']\n",
        "z = {'tipo':'asdas','saldo':12000}\n",
        "cliente_banco['tarjetas'] = x,y,z\n",
        "cliente_banco['direccion']={'calle':'rancho seco','num':23}\n",
        "\n",
        "\n",
        "llaves = cliente_banco.items()\n",
        "valores = cliente_banco.values()\n",
        "\n",
        "for x in llaves:\n",
        "\tprint(x)\n",
        "for v in valores:\n",
        "\tprint(v)\n",
        "\n",
        "pares = cliente_banco.items()\n",
        "\n",
        "for elem in cliente_banco:\n",
        "\tprint(f'{elem} = {elem2}')\n",
        "\n",
        "\n",
        "fruta = {'nombre':'manzana','color':'rojo','estado':'chihuahua'}\n",
        "otras_caracteristicas = {'vitamina':'D'}\n",
        "fruta.update(otras_caracteristicas)\n",
        "print(fruta)\n",
        "\n",
        "'''\n",
        "'''\n",
        "#FUNCIONES\n",
        "def suma(a,b):\n",
        "\treturn a+b\n",
        "a = 3\n",
        "b=6\n",
        "c = suma(a,b)\n",
        "\n",
        "print(c)\n",
        "\n",
        "suma_dos = lambda x,y : x + y\n",
        "print(suma_dos(a,b))\n",
        "\n",
        "#Aprovechar el uso de none en paso de parametros.\n",
        "\n",
        "def calcular(base,veces):\n",
        "\tif base != None:\n",
        "\t\tresultado = base * veces\n",
        "\telse:\n",
        "\t\tresultado = 'desconocido'\n",
        "\treturn resultado\n",
        "\n",
        "\n",
        "calcular2 = lambda x,y : x * y #También se podria hacer\n",
        "\n",
        "print(calcular(None,3))"
      ],
      "execution_count": null,
      "outputs": []
    }
  ]
}