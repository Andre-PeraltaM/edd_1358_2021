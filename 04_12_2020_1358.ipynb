{
  "nbformat": 4,
  "nbformat_minor": 0,
  "metadata": {
    "colab": {
      "name": "04_12_2020_1358.ipynb",
      "provenance": [],
      "authorship_tag": "ABX9TyPnBBgN00qBZRU2yVS695m2",
      "include_colab_link": true
    },
    "kernelspec": {
      "name": "python3",
      "display_name": "Python 3"
    }
  },
  "cells": [
    {
      "cell_type": "markdown",
      "metadata": {
        "id": "view-in-github",
        "colab_type": "text"
      },
      "source": [
        "<a href=\"https://colab.research.google.com/github/Andre-PeraltaM/edd_1358_2021/blob/master/04_12_2020_1358.ipynb\" target=\"_parent\"><img src=\"https://colab.research.google.com/assets/colab-badge.svg\" alt=\"Open In Colab\"/></a>"
      ]
    },
    {
      "cell_type": "code",
      "metadata": {
        "colab": {
          "base_uri": "https://localhost:8080/"
        },
        "id": "7MYf8pZDx_MK",
        "outputId": "3aa5bb58-3167-4014-d54d-f2959173b4dc"
      },
      "source": [
        "\"\"\"\n",
        "Array2D\n",
        "\"\"\"\n",
        "\n",
        "class Array2D:\n",
        "\n",
        "    def __init__(self,rows, cols, value):\n",
        "        self.__cols = cols\n",
        "        self.__rows = rows\n",
        "        self.__array=[[value for x in range(self.__cols)] for y in range(self.__rows)]\n",
        "\n",
        "    def to_string(self):\n",
        "        [print(\"---\",end=\"\") for x in range(self.__cols)]\n",
        "        print(\"\")\n",
        "        for ren in self.__array:\n",
        "            print(ren)\n",
        "        [print(\"---\",end=\"\") for x in range(self.__cols)]\n",
        "        print(\"\")\n",
        "\n",
        "    def get_num_rows(self):\n",
        "        return self.__rows\n",
        "\n",
        "    def get_num_cols(self):\n",
        "        return self.__cols\n",
        "\n",
        "    def get_item(self,row,col):\n",
        "        return self.__array[row][col]\n",
        "\n",
        "    def set_item( self , row , col , valor ):\n",
        "        self.__array[row][col]=valor\n",
        "\n",
        "    def clearing(self, valor=0):\n",
        "        for ren in range(self.__rows):\n",
        "            for col in range(self.__cols):\n",
        "                self.__array[ren][col]=valor\n",
        "\n",
        "\n",
        "class Stack:\n",
        "    def __init__(self):\n",
        "        self.__data = []\n",
        "        self.__size = 0\n",
        "\n",
        "    def pop(self):\n",
        "        return self.__data.pop()\n",
        "\n",
        "    def get_size(self):\n",
        "        return self.__size\n",
        "\n",
        "    def peak(self):\n",
        "        if len(self.__data) > 0:\n",
        "            return self.__data[-1]\n",
        "        else:\n",
        "            return None\n",
        "\n",
        "    def push(self,value):\n",
        "        self.__data.append(value)\n",
        "        self.__size += 1\n",
        "\n",
        "    def to_string(self):\n",
        "        print(\"-\"*6)\n",
        "        for dato in self.__data[::-1]:\n",
        "            print(f\"| {dato} |\")\n",
        "            print(\"/\" * 6)\n",
        "        print(\"\")\n",
        "\n",
        "\n",
        "class LaberintoADT:\n",
        "\tdef __init__(self,archivo):\n",
        "\n",
        "\t\tself.__camino = Stack()\n",
        "\n",
        "\t\tentrada = open(archivo,'rt')\n",
        "\t\tdatos = entrada.readlines()\n",
        "\t\tself.__rens = int(datos.pop(0).strip())\n",
        "\t\tself.__cols = int(datos.pop(0).strip())\n",
        "\t\tself.__entrada = list(map(int,datos[0].strip().split(',')))\n",
        "\t\tdatos.pop(0)\n",
        "\n",
        "\t\tself.__laberinto = Array2D(self.__rens,self.__cols,'1')\n",
        "\n",
        "\t\tfor renglon in range(self.__rens):\n",
        "\t\t\tinfo_ren = datos[renglon].strip().split(',')\n",
        "\t\t\tfor columna in range (self.__cols):\n",
        "\t\t\t\tself.__laberinto.set_item(renglon,columna,info_ren[columna])\n",
        "\n",
        "\t\tself.__laberinto.to_string()\n",
        "\n",
        "\tdef resolver(self):\n",
        "\t\tactual = self.__camino.peak()\n",
        "\n",
        "\n",
        "laberinto = LaberintoADT('laberintox.txt')"
      ],
      "execution_count": 3,
      "outputs": [
        {
          "output_type": "stream",
          "text": [
            "---------------------\n",
            "['1', '1', '1', '1', '1', '1', '1']\n",
            "['1', '1', '1', '1', '1', '1', '1']\n",
            "['1', '1', '1', '1', '1', '1', '1']\n",
            "['1', '1', '1', '1', '1', '1', '1']\n",
            "['1', '0', '0', '0', '0', '0', 'S']\n",
            "['1', '1', '0', '1', '1', '1', '1']\n",
            "['1', '1', 'E', '1', '1', '1', '1']\n",
            "---------------------\n"
          ],
          "name": "stdout"
        }
      ]
    }
  ]
}