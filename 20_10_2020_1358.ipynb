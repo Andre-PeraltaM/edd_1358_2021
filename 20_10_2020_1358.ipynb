{
  "nbformat": 4,
  "nbformat_minor": 0,
  "metadata": {
    "colab": {
      "name": "20/10/2020_1358.ipynb",
      "provenance": [],
      "collapsed_sections": [],
      "authorship_tag": "ABX9TyOXCjleyyKH9KfAQOeb4+Ro",
      "include_colab_link": true
    },
    "kernelspec": {
      "name": "python3",
      "display_name": "Python 3"
    }
  },
  "cells": [
    {
      "cell_type": "markdown",
      "metadata": {
        "id": "view-in-github",
        "colab_type": "text"
      },
      "source": [
        "<a href=\"https://colab.research.google.com/github/Andre-PeraltaM/edd_1358_2021/blob/master/20_10_2020_1358.ipynb\" target=\"_parent\"><img src=\"https://colab.research.google.com/assets/colab-badge.svg\" alt=\"Open In Colab\"/></a>"
      ]
    },
    {
      "cell_type": "code",
      "metadata": {
        "id": "KPzYkSkv77SG",
        "outputId": "e48b01dd-4342-4aef-aa68-6dd9d403657a",
        "colab": {
          "base_uri": "https://localhost:8080/"
        }
      },
      "source": [
        "\n",
        "'''\n",
        "Array\n",
        "'''\n",
        "\n",
        "class Array:\n",
        "\tdef __init__(self,tam):\n",
        "\t\t'''constructor de un tamaño específico del arreglo.'''\n",
        "\t\tself.__tam = tam\n",
        "\t\tself.__datos = [0 for x in range(tam)]\n",
        "\n",
        "\tdef get_item(self,index):\n",
        "\t\t'''Obtener elemento en la posición espécifica'''\n",
        "\t\tif index <= len(self.__datos) and index > 0:\n",
        "\t\t\treturn self.__datos[index-1]\n",
        "\n",
        "\tdef set_item(self , dato , index):\n",
        "\t\t'''establecer un elemento en la posición establecida'''\n",
        "\t\tif index <= len(self.__datos) and index > 0:\n",
        "\t\t\tself.dato = dato \n",
        "\t\t\tself.__datos[index] = dato \n",
        "\n",
        "\n",
        "\tdef get_length(self):\n",
        "\t\t'''Obtener el tamaño del arreglo'''\n",
        "\t\treturn len(self.__datos)\n",
        "\n",
        "\tdef Clear(self,dato):\n",
        "\t\t'''establece todos los valores del ADT al valor enviado en dato.'''\n",
        "\t\tself.__datos = [dato for x in range(self.__tam)]\n",
        "\t\n",
        "\tdef getIterator(self):\n",
        "\t\tfor i in self.__datos:\n",
        "\t\t\tyield i\n",
        "\n",
        "\n",
        "class __getIterator:\n",
        "    def __init__( self , arreglo ):\n",
        "        self.__arreglo = arreglo\n",
        "        self.__indice_actual = 0\n",
        "\n",
        "    def __iter__( self ):\n",
        "        return self\n",
        "\n",
        "    def __next__( self  ):\n",
        "        if self.__indice_actual < len(self.__arreglo):\n",
        "            dato = self.__arreglo[self.__indice_actual]\n",
        "            self.__indice_actual +=1\n",
        "            return dato\n",
        "        else:\n",
        "            raise StopIteration\n",
        "\n",
        "\n",
        "\n",
        "mi_arreglo = Array(10)\n",
        "print(mi_arreglo.get_item(2))\n",
        "\n",
        "mi_arreglo.set_item(5,3) #Cambiamos un valor\n",
        "print(mi_arreglo.get_item(3)) #Comprobamos que cambió\n",
        "\n",
        "print(mi_arreglo.get_length())#Tamaño del array\n",
        "\n",
        "mi_arreglo.Clear(9) #Establecemos los nuevos valores\n",
        "print(mi_arreglo.get_item(2)) #Verificamos que se hayan cambiado\n",
        "\n",
        "y = mi_arreglo.getIterator()\n",
        "\n",
        "for x in y:\n",
        "\tprint(x)"
      ],
      "execution_count": 52,
      "outputs": [
        {
          "output_type": "stream",
          "text": [
            "0\n",
            "0\n",
            "10\n",
            "9\n",
            "9\n",
            "9\n",
            "9\n",
            "9\n",
            "9\n",
            "9\n",
            "9\n",
            "9\n",
            "9\n",
            "9\n"
          ],
          "name": "stdout"
        }
      ]
    }
  ]
}