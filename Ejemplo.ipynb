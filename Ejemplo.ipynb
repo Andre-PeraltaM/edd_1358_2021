{
  "nbformat": 4,
  "nbformat_minor": 0,
  "metadata": {
    "colab": {
      "name": "Ejemplo.ipynb",
      "provenance": [],
      "collapsed_sections": [],
      "authorship_tag": "ABX9TyMUDHf9ACQI/yxqV42BxosI",
      "include_colab_link": true
    },
    "kernelspec": {
      "name": "python3",
      "display_name": "Python 3"
    }
  },
  "cells": [
    {
      "cell_type": "markdown",
      "metadata": {
        "id": "view-in-github",
        "colab_type": "text"
      },
      "source": [
        "<a href=\"https://colab.research.google.com/github/Andre-PeraltaM/edd_1358_2021/blob/master/Ejemplo.ipynb\" target=\"_parent\"><img src=\"https://colab.research.google.com/assets/colab-badge.svg\" alt=\"Open In Colab\"/></a>"
      ]
    },
    {
      "cell_type": "code",
      "metadata": {
        "id": "n_Iljkn1tm5F",
        "outputId": "4f75b5cf-474f-45a0-d0f3-803a9eb15860",
        "colab": {
          "base_uri": "https://localhost:8080/"
        }
      },
      "source": [
        "class Nodo:\n",
        "    def __init__( self , dato ):\n",
        "        self.dato = dato\n",
        "        self.siguiente = None\n",
        "\n",
        "a = Nodo( 10 )#Creamos un nodo\n",
        "a.siguiente = Nodo( 20 )#Agregramos el 20\n",
        "a.siguiente.siguiente = Nodo(30)#Agregramos el 30\n",
        "a.siguiente.siguiente.siguiente = Nodo(40)#Agregramos el 40\n",
        "a.siguiente.siguiente.siguiente.siguiente = Nodo(50)#Agregramos el 50\n",
        "\n",
        "\n",
        "#Mi idea es esta:\n",
        "b = Nodo(25)#Creamos un nuevo nodo, independiente de a\n",
        "b.siguiente = a.siguiente.siguiente # A ese nodo nuevo le agregamos todo los elementos que van despues del lugar que queremos, en este caso lo voy a poner despues del 20 y antes del 30\n",
        "\n",
        "a.siguiente.siguiente = b # Ahora sólo ponemos los elementos que van antes de b , en éste caso sólo 10 y 20\n",
        "\n",
        "\n",
        "\n",
        "curr_node = a\n",
        "print(curr_node.dato , \"-->\" , end=\"\")\n",
        "while( curr_node.siguiente != None ):\n",
        "    curr_node = curr_node.siguiente\n",
        "    print(curr_node.dato, \"-->\" , end=\"\")\n",
        "print(\"\")"
      ],
      "execution_count": 2,
      "outputs": [
        {
          "output_type": "stream",
          "text": [
            "10 -->20 -->25 -->30 -->40 -->50 -->\n"
          ],
          "name": "stdout"
        }
      ]
    }
  ]
}