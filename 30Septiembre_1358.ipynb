{
  "nbformat": 4,
  "nbformat_minor": 0,
  "metadata": {
    "colab": {
      "name": "30Septiembre_1358.ipynb",
      "provenance": [],
      "collapsed_sections": [],
      "authorship_tag": "ABX9TyPkLyL2gDs3oXaAgrQv297Q",
      "include_colab_link": true
    },
    "kernelspec": {
      "name": "python3",
      "display_name": "Python 3"
    }
  },
  "cells": [
    {
      "cell_type": "markdown",
      "metadata": {
        "id": "view-in-github",
        "colab_type": "text"
      },
      "source": [
        "<a href=\"https://colab.research.google.com/github/Andre-PeraltaM/edd_1358_2021/blob/master/30Septiembre_1358.ipynb\" target=\"_parent\"><img src=\"https://colab.research.google.com/assets/colab-badge.svg\" alt=\"Open In Colab\"/></a>"
      ]
    },
    {
      "cell_type": "code",
      "metadata": {
        "id": "70n5rbOlscMN"
      },
      "source": [
        "edad = 13\n",
        "nombre = \"José\"\n",
        "estatura = 1.67\n",
        "tiene_ine = True\n",
        "###compuestos\n",
        "####listas\n",
        "\n",
        "lista_ejemplo = [manzana,1.57,True,[\"rojo\",\"azul\"]]\n",
        "\n",
        "tupla_ejemplo = (\"root\",\"123.12321.123\",\"dato\")\n",
        "\n",
        "print(lista_ejemplo[1])\n",
        "\n",
        "dir() #para saber todos los metodos de un tipo ejeplo listas, diccionarios ...\n",
        "\n",
        "help() #es más detallado sobre cada metodo"
      ],
      "execution_count": null,
      "outputs": []
    }
  ]
}