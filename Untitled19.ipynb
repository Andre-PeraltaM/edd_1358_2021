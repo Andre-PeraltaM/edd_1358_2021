{
  "nbformat": 4,
  "nbformat_minor": 0,
  "metadata": {
    "colab": {
      "name": "Untitled19.ipynb",
      "provenance": [],
      "authorship_tag": "ABX9TyPvpCK4iON1SOvZUwIkMMwE",
      "include_colab_link": true
    },
    "kernelspec": {
      "name": "python3",
      "display_name": "Python 3"
    }
  },
  "cells": [
    {
      "cell_type": "markdown",
      "metadata": {
        "id": "view-in-github",
        "colab_type": "text"
      },
      "source": [
        "<a href=\"https://colab.research.google.com/github/Andre-PeraltaM/edd_1358_2021/blob/master/Untitled19.ipynb\" target=\"_parent\"><img src=\"https://colab.research.google.com/assets/colab-badge.svg\" alt=\"Open In Colab\"/></a>"
      ]
    },
    {
      "cell_type": "code",
      "metadata": {
        "id": "4XN5n1yOs_b_"
      },
      "source": [
        "class Queue:\r\n",
        "\tdef __init__(self):\r\n",
        "\t\tself.__data = []\r\n",
        "\tdef is_empty(self):\r\n",
        "\t\treturn len(self.__data) == 0\r\n",
        "\tdef length(self):\r\n",
        "\t\treturn len(self.__data)\r\n",
        "\tdef enqueue(self,elem):\r\n",
        "\t\tself.__data.append(elem)\r\n",
        "\tdef dequeue(self):\r\n",
        "\t\tif len(self.__data) > 0:\r\n",
        "\t\t\treturn self.__data.pop(0)\r\n",
        "\t\treturn None\r\n",
        "\tdef to_string(self):\r\n",
        "\t\tfor i in self.__data:\r\n",
        "\t\t\tprint(f'|{i}',end='')\r\n",
        "\t\tprint('|')\r\n",
        "\r\n",
        "class BoundedPriorityQueue:\r\n",
        "\tdef __init__(self,niveles):\r\n",
        "\t\tself.__data = [Queue() for x in range(niveles)]\r\n",
        "\t\tself.__size = 0\r\n",
        "\tdef is_empty(self):\r\n",
        "\t\treturn len(self.__data) == 0\r\n",
        "\tdef length(self):\r\n",
        "\t\treturn len(self.__data)\r\n",
        "\tdef enqueue(prioridad , elem):\r\n",
        "\t\tself.__data[prioridad].enqueue(elem)"
      ],
      "execution_count": 2,
      "outputs": []
    }
  ]
}