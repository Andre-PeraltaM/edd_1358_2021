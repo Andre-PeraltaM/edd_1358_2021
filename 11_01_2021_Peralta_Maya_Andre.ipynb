{
  "nbformat": 4,
  "nbformat_minor": 0,
  "metadata": {
    "colab": {
      "name": "11_01_2021_Peralta_Maya_Andre.ipynb",
      "provenance": [],
      "authorship_tag": "ABX9TyOAGsDWsvSMtcVvdmdNSMUI",
      "include_colab_link": true
    },
    "kernelspec": {
      "name": "python3",
      "display_name": "Python 3"
    }
  },
  "cells": [
    {
      "cell_type": "markdown",
      "metadata": {
        "id": "view-in-github",
        "colab_type": "text"
      },
      "source": [
        "<a href=\"https://colab.research.google.com/github/Andre-PeraltaM/edd_1358_2021/blob/master/11_01_2021_Peralta_Maya_Andre.ipynb\" target=\"_parent\"><img src=\"https://colab.research.google.com/assets/colab-badge.svg\" alt=\"Open In Colab\"/></a>"
      ]
    },
    {
      "cell_type": "code",
      "metadata": {
        "colab": {
          "base_uri": "https://localhost:8080/"
        },
        "id": "NpdTvwFkevSr",
        "outputId": "78bf9d7c-6cbf-4df5-8ea5-d6d6b46c7dcd"
      },
      "source": [
        "class NodoArbol(object):\r\n",
        "\t\"\"\"docstring for NodoArbol\"\"\"\r\n",
        "\tdef __init__(self, dato, hijo_izquierdo = None , hijo_derecho = None):\r\n",
        "\t\tself.dato = dato\r\n",
        "\t\tself.hijo_izq = hijo_izquierdo\t\t\r\n",
        "\t\tself.hijo_der = hijo_derecho\r\n",
        "\r\n",
        "\r\n",
        "arbol = NodoArbol('R','C','H')\t\t\r\n",
        "arbol.hijo_izq = NodoArbol('C')\t\t\r\n",
        "arbol.hijo_der = NodoArbol('H')\t\r\n",
        "\r\n",
        "print(arbol.dato)\t\r\n",
        "print(arbol.hijo_izq.dato)\t\r\n",
        "print(arbol.hijo_der.dato)\t\r\n",
        "\r\n",
        "class NodoArbol(object):\r\n",
        "\t\"\"\"docstring for NodoArbol\"\"\"\r\n",
        "\tdef __init__(self, dato, hijo_izquierdo = None , hijo_derecho = None,hijo_3 = None):\r\n",
        "\t\tself.dato = dato\r\n",
        "\t\tself.hijo_izq = hijo_izquierdo\t\t\r\n",
        "\t\tself.hijo_der = hijo_derecho\r\n",
        "\t\tself.tercer_hijo = hijo_3\r\n",
        "\r\n",
        "class Nodo_Arbol2:\r\n",
        "    def __init__( self , dato , hijo_izq=None , hijo_central=None , hijo_der=None):\r\n",
        "        self.dato = dato\r\n",
        "        self.hijo_izq = hijo_izq\r\n",
        "        self.hijo_der = hijo_der\r\n",
        "        self.hijo_central=  hijo_central\r\n",
        "\r\n",
        "arbol3 = Nodo_Arbol2(\"R\" , Nodo_Arbol2(\"I\" , None , Nodo_Arbol2(\"X\")) , Nodo_Arbol2(\"C\" , Nodo_Arbol2(\"Y\")) , Nodo_Arbol2(\"D\" , None , None , Nodo_Arbol2(\"Z\")))\r\n",
        "print('\\n')\r\n",
        "print(arbol3.dato)\r\n",
        "print(arbol3.hijo_izq.dato)\r\n",
        "print(arbol3.hijo_der.dato)\r\n",
        "print(arbol3.hijo_central.dato)\r\n",
        "print(arbol3.hijo_izq.hijo_central.dato)\r\n",
        "print(arbol3.hijo_der.hijo_der.dato)\r\n",
        "print(arbol3.hijo_central.hijo_izq.dato)\r\n",
        "\r\n",
        "print('\\n')\r\n",
        "arbol = NodoArbol('Santi',hijo_derecho = NodoArbol('Jesus',NodoArbol('Pedro', hijo_derecho = NodoArbol('Pedro'))))\t\t\r\n",
        "\r\n",
        "print(arbol.dato)\t\r\n",
        "print(arbol.hijo_der.dato)\t\r\n",
        "print(arbol.hijo_der.hijo_izq.dato)\t\r\n",
        "print(arbol.hijo_der.hijo_izq.hijo_der.dato)\t\r\n",
        "\r\n"
      ],
      "execution_count": 1,
      "outputs": [
        {
          "output_type": "stream",
          "text": [
            "R\n",
            "C\n",
            "H\n",
            "\n",
            "\n",
            "R\n",
            "I\n",
            "D\n",
            "C\n",
            "X\n",
            "Z\n",
            "Y\n",
            "\n",
            "\n",
            "Santi\n",
            "Jesus\n",
            "Pedro\n",
            "Pedro\n"
          ],
          "name": "stdout"
        }
      ]
    }
  ]
}